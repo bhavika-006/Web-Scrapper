{
 "cells": [
  {
   "cell_type": "code",
   "execution_count": 36,
   "id": "b52b836d-4569-4010-9113-ede4d317f0a1",
   "metadata": {},
   "outputs": [
    {
     "name": "stdin",
     "output_type": "stream",
     "text": [
      "Enter your Codeforces handle:  00bhavikaish\n",
      "Enter the problem ID in the format {ContestID + ProblemCode} (e.g., 1999B):  1999B\n"
     ]
    },
    {
     "name": "stdout",
     "output_type": "stream",
     "text": [
      "Fetching submissions from: https://codeforces.com/api/user.status?handle=00bhavikaish&from=1&count=100\n",
      "Found matching submission for problem: 1999B\n",
      "Submission ID: 274912519, Verdict: WRONG_ANSWER\n",
      "Error fetching submission page: 403 Client Error: Forbidden for url: https://codeforces.com/contest/1999/submission/274912519\n"
     ]
    }
   ],
   "source": [
    "import requests\n",
    "from bs4 import BeautifulSoup\n",
    "\n",
    "# Function to fetch submission details from the Codeforces API\n",
    "def get_submission_details(user_handle, problem_id):\n",
    "    api_url = f'https://codeforces.com/api/user.status?handle={user_handle}&from=1&count=100'\n",
    "    print(f\"Fetching submissions from: {api_url}\")\n",
    "    \n",
    "    try:\n",
    "        response = requests.get(api_url)\n",
    "        response.raise_for_status()\n",
    "        data = response.json()\n",
    "    except requests.exceptions.RequestException as e:\n",
    "        print(f\"Error fetching data from Codeforces API: {e}\")\n",
    "        return None\n",
    "\n",
    "    if data['status'] != 'OK':\n",
    "        print(f\"API returned an error: {data.get('comment', 'Unknown error')}\")\n",
    "        return None\n",
    "    \n",
    "    \n",
    "\n",
    "    # Look for the specific problem in the submissions\n",
    "    for submission in data['result']:\n",
    "        pID = f\"{submission['problem']['contestId']}{submission['problem']['index']}\"\n",
    "        if pID == problem_id:\n",
    "            print(f\"Found matching submission for problem: {pID}\")\n",
    "            print(f\"Submission ID: {submission['id']}, Verdict: {submission['verdict']}\")\n",
    "            return submission\n",
    "\n",
    "    print(f\"No submission found for problem ID: {problem_id}\")\n",
    "    return None\n",
    "\n",
    "# Function to scrape and save the source code from a Codeforces submission page\n",
    "def scrape_and_save_code(submission_url, submission_id):\n",
    "    try:\n",
    "        response = requests.get(submission_url)\n",
    "        response.raise_for_status()\n",
    "    except requests.exceptions.RequestException as e:\n",
    "        print(f\"Error fetching submission page: {e}\")\n",
    "        return\n",
    "\n",
    "    soup = BeautifulSoup(response.content, 'html5lib')\n",
    "    code_block = soup.find('pre', attrs={'id': 'program-source-text'})\n",
    "\n",
    "    if code_block:\n",
    "        code = code_block.text\n",
    "        print(f\"Code fetched successfully for submission {submission_id}\")\n",
    "        \n",
    "        # Save the code to a file\n",
    "        with open(f\"{submission_id}.txt\", 'w') as file:\n",
    "            file.write(code)\n",
    "        print(f\"Code saved to {submission_id}.txt\")\n",
    "    else:\n",
    "        print(\"Could not find the source code on the page.\")\n",
    "\n",
    "# Main function\n",
    "def main():\n",
    "    # User inputs\n",
    "    user_handle = input(\"Enter your Codeforces handle: \")\n",
    "    problem_id = input(\"Enter the problem ID in the format {ContestID + ProblemCode} (e.g., 1999B): \")\n",
    "    \n",
    "    # Step 1: Fetch submission details from the API\n",
    "    submission = get_submission_details(user_handle, problem_id)\n",
    "    \n",
    "    if submission:\n",
    "        # Step 2: Construct the submission URL and scrape the source code\n",
    "        submission_url = f\"https://codeforces.com/contest/{submission['contestId']}/submission/{submission['id']}\"\n",
    "        scrape_and_save_code(submission_url, submission['id'])\n",
    "\n",
    "if __name__ == \"__main__\":\n",
    "    main()\n"
   ]
  },
  {
   "cell_type": "code",
   "execution_count": null,
   "id": "e96dc80d-76ef-4e5a-ab97-587d2183c935",
   "metadata": {},
   "outputs": [],
   "source": [
    "\n"
   ]
  },
  {
   "cell_type": "code",
   "execution_count": null,
   "id": "e171529b-e9fd-4317-9d86-8f3d22759af5",
   "metadata": {},
   "outputs": [],
   "source": []
  },
  {
   "cell_type": "code",
   "execution_count": null,
   "id": "bbb722d5-7034-49d8-b3bf-f0f5822372ed",
   "metadata": {},
   "outputs": [],
   "source": [
    "\n"
   ]
  },
  {
   "cell_type": "code",
   "execution_count": null,
   "id": "ab95f6b7-c2c8-40aa-b4b8-6bb85be1e562",
   "metadata": {},
   "outputs": [],
   "source": []
  }
 ],
 "metadata": {
  "kernelspec": {
   "display_name": "Python 3 (ipykernel)",
   "language": "python",
   "name": "python3"
  },
  "language_info": {
   "codemirror_mode": {
    "name": "ipython",
    "version": 3
   },
   "file_extension": ".py",
   "mimetype": "text/x-python",
   "name": "python",
   "nbconvert_exporter": "python",
   "pygments_lexer": "ipython3",
   "version": "3.11.7"
  }
 },
 "nbformat": 4,
 "nbformat_minor": 5
}
